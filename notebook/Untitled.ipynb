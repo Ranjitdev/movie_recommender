{
 "cells": [
  {
   "cell_type": "markdown",
   "id": "259e52c7",
   "metadata": {},
   "source": [
    "## Movie recommender data"
   ]
  },
  {
   "cell_type": "markdown",
   "id": "d82d1932",
   "metadata": {},
   "source": [
    "### TMDB 5000 Movie Dataset\n",
    "### Data Source Transfer Details\n",
    "    Several of the new columns contain json. You can save a bit of time by porting the load data functions [from this kernel]().\n",
    "\n",
    "    Even in simple fields like runtime may not be consistent across versions. For example, previous dataset shows the duration for Avatar's extended cut while TMDB shows the time for the original version.\n",
    "\n",
    "    There's now a separate file containing the full credits for both the cast and crew.\n",
    "\n",
    "    All fields are filled out by users so don't expect them to agree on keywords, genres, ratings, or the like.\n",
    "\n",
    "    Your existing kernels will continue to render normally until they are re-run.\n",
    "\n",
    "    If you are curious about how this dataset was prepared, the code to access TMDb's API is posted here.\n",
    "\n",
    "    New columns:\n",
    "\n",
    "    homepage\n",
    "\n",
    "    id\n",
    "\n",
    "    original_title\n",
    "\n",
    "    overview\n",
    "\n",
    "    popularity\n",
    "\n",
    "    production_companies\n",
    "\n",
    "    production_countries\n",
    "\n",
    "    release_date\n",
    "\n",
    "    spoken_languages\n",
    "\n",
    "    status\n",
    "\n",
    "    tagline\n",
    "\n",
    "    vote_average\n",
    "\n",
    "    Lost columns:\n",
    "\n",
    "    actor_1_facebook_likes\n",
    "\n",
    "    actor_2_facebook_likes\n",
    "\n",
    "    actor_3_facebook_likes\n",
    "\n",
    "    aspect_ratio\n",
    "\n",
    "    cast_total_facebook_likes\n",
    "\n",
    "    color\n",
    "\n",
    "    content_rating\n",
    "\n",
    "    director_facebook_likes\n",
    "\n",
    "    facenumber_in_poster\n",
    "\n",
    "    movie_facebook_likes\n",
    "\n",
    "    movie_imdb_link\n",
    "\n",
    "    num_critic_for_reviews\n",
    "\n",
    "    num_user_for_reviews"
   ]
  },
  {
   "cell_type": "code",
   "execution_count": 148,
   "id": "91edfed4",
   "metadata": {},
   "outputs": [],
   "source": [
    "file_credits = 'tmdb_5000_credits.csv'\n",
    "file_movies = 'tmdb_5000_movies.csv'"
   ]
  },
  {
   "cell_type": "code",
   "execution_count": 149,
   "id": "bffecd3a",
   "metadata": {},
   "outputs": [],
   "source": [
    "import pandas as pd\n",
    "import numpy as np\n",
    "import matplotlib.pyplot as plt\n",
    "import seaborn as sns\n",
    "%matplotlib inline"
   ]
  },
  {
   "cell_type": "code",
   "execution_count": 150,
   "id": "a8eb8c07",
   "metadata": {},
   "outputs": [
    {
     "data": {
      "text/html": [
       "<div>\n",
       "<style scoped>\n",
       "    .dataframe tbody tr th:only-of-type {\n",
       "        vertical-align: middle;\n",
       "    }\n",
       "\n",
       "    .dataframe tbody tr th {\n",
       "        vertical-align: top;\n",
       "    }\n",
       "\n",
       "    .dataframe thead th {\n",
       "        text-align: right;\n",
       "    }\n",
       "</style>\n",
       "<table border=\"1\" class=\"dataframe\">\n",
       "  <thead>\n",
       "    <tr style=\"text-align: right;\">\n",
       "      <th></th>\n",
       "      <th>movie_id</th>\n",
       "      <th>title</th>\n",
       "      <th>cast</th>\n",
       "      <th>crew</th>\n",
       "    </tr>\n",
       "  </thead>\n",
       "  <tbody>\n",
       "    <tr>\n",
       "      <th>0</th>\n",
       "      <td>19995</td>\n",
       "      <td>Avatar</td>\n",
       "      <td>[{\"cast_id\": 242, \"character\": \"Jake Sully\", \"...</td>\n",
       "      <td>[{\"credit_id\": \"52fe48009251416c750aca23\", \"de...</td>\n",
       "    </tr>\n",
       "    <tr>\n",
       "      <th>1</th>\n",
       "      <td>285</td>\n",
       "      <td>Pirates of the Caribbean: At World's End</td>\n",
       "      <td>[{\"cast_id\": 4, \"character\": \"Captain Jack Spa...</td>\n",
       "      <td>[{\"credit_id\": \"52fe4232c3a36847f800b579\", \"de...</td>\n",
       "    </tr>\n",
       "  </tbody>\n",
       "</table>\n",
       "</div>"
      ],
      "text/plain": [
       "   movie_id                                     title  \\\n",
       "0     19995                                    Avatar   \n",
       "1       285  Pirates of the Caribbean: At World's End   \n",
       "\n",
       "                                                cast  \\\n",
       "0  [{\"cast_id\": 242, \"character\": \"Jake Sully\", \"...   \n",
       "1  [{\"cast_id\": 4, \"character\": \"Captain Jack Spa...   \n",
       "\n",
       "                                                crew  \n",
       "0  [{\"credit_id\": \"52fe48009251416c750aca23\", \"de...  \n",
       "1  [{\"credit_id\": \"52fe4232c3a36847f800b579\", \"de...  "
      ]
     },
     "execution_count": 150,
     "metadata": {},
     "output_type": "execute_result"
    }
   ],
   "source": [
    "credits = pd.read_csv(file_credits)\n",
    "credits.head(2)"
   ]
  },
  {
   "cell_type": "code",
   "execution_count": 151,
   "id": "f87b68c9",
   "metadata": {},
   "outputs": [
    {
     "data": {
      "text/html": [
       "<div>\n",
       "<style scoped>\n",
       "    .dataframe tbody tr th:only-of-type {\n",
       "        vertical-align: middle;\n",
       "    }\n",
       "\n",
       "    .dataframe tbody tr th {\n",
       "        vertical-align: top;\n",
       "    }\n",
       "\n",
       "    .dataframe thead th {\n",
       "        text-align: right;\n",
       "    }\n",
       "</style>\n",
       "<table border=\"1\" class=\"dataframe\">\n",
       "  <thead>\n",
       "    <tr style=\"text-align: right;\">\n",
       "      <th></th>\n",
       "      <th>budget</th>\n",
       "      <th>genres</th>\n",
       "      <th>homepage</th>\n",
       "      <th>id</th>\n",
       "      <th>keywords</th>\n",
       "      <th>original_language</th>\n",
       "      <th>original_title</th>\n",
       "      <th>overview</th>\n",
       "      <th>popularity</th>\n",
       "      <th>production_companies</th>\n",
       "      <th>production_countries</th>\n",
       "      <th>release_date</th>\n",
       "      <th>revenue</th>\n",
       "      <th>runtime</th>\n",
       "      <th>spoken_languages</th>\n",
       "      <th>status</th>\n",
       "      <th>tagline</th>\n",
       "      <th>title</th>\n",
       "      <th>vote_average</th>\n",
       "      <th>vote_count</th>\n",
       "    </tr>\n",
       "  </thead>\n",
       "  <tbody>\n",
       "    <tr>\n",
       "      <th>0</th>\n",
       "      <td>237000000</td>\n",
       "      <td>[{\"id\": 28, \"name\": \"Action\"}, {\"id\": 12, \"nam...</td>\n",
       "      <td>http://www.avatarmovie.com/</td>\n",
       "      <td>19995</td>\n",
       "      <td>[{\"id\": 1463, \"name\": \"culture clash\"}, {\"id\":...</td>\n",
       "      <td>en</td>\n",
       "      <td>Avatar</td>\n",
       "      <td>In the 22nd century, a paraplegic Marine is di...</td>\n",
       "      <td>150.437577</td>\n",
       "      <td>[{\"name\": \"Ingenious Film Partners\", \"id\": 289...</td>\n",
       "      <td>[{\"iso_3166_1\": \"US\", \"name\": \"United States o...</td>\n",
       "      <td>2009-12-10</td>\n",
       "      <td>2787965087</td>\n",
       "      <td>162.0</td>\n",
       "      <td>[{\"iso_639_1\": \"en\", \"name\": \"English\"}, {\"iso...</td>\n",
       "      <td>Released</td>\n",
       "      <td>Enter the World of Pandora.</td>\n",
       "      <td>Avatar</td>\n",
       "      <td>7.2</td>\n",
       "      <td>11800</td>\n",
       "    </tr>\n",
       "    <tr>\n",
       "      <th>1</th>\n",
       "      <td>300000000</td>\n",
       "      <td>[{\"id\": 12, \"name\": \"Adventure\"}, {\"id\": 14, \"...</td>\n",
       "      <td>http://disney.go.com/disneypictures/pirates/</td>\n",
       "      <td>285</td>\n",
       "      <td>[{\"id\": 270, \"name\": \"ocean\"}, {\"id\": 726, \"na...</td>\n",
       "      <td>en</td>\n",
       "      <td>Pirates of the Caribbean: At World's End</td>\n",
       "      <td>Captain Barbossa, long believed to be dead, ha...</td>\n",
       "      <td>139.082615</td>\n",
       "      <td>[{\"name\": \"Walt Disney Pictures\", \"id\": 2}, {\"...</td>\n",
       "      <td>[{\"iso_3166_1\": \"US\", \"name\": \"United States o...</td>\n",
       "      <td>2007-05-19</td>\n",
       "      <td>961000000</td>\n",
       "      <td>169.0</td>\n",
       "      <td>[{\"iso_639_1\": \"en\", \"name\": \"English\"}]</td>\n",
       "      <td>Released</td>\n",
       "      <td>At the end of the world, the adventure begins.</td>\n",
       "      <td>Pirates of the Caribbean: At World's End</td>\n",
       "      <td>6.9</td>\n",
       "      <td>4500</td>\n",
       "    </tr>\n",
       "  </tbody>\n",
       "</table>\n",
       "</div>"
      ],
      "text/plain": [
       "      budget                                             genres  \\\n",
       "0  237000000  [{\"id\": 28, \"name\": \"Action\"}, {\"id\": 12, \"nam...   \n",
       "1  300000000  [{\"id\": 12, \"name\": \"Adventure\"}, {\"id\": 14, \"...   \n",
       "\n",
       "                                       homepage     id  \\\n",
       "0                   http://www.avatarmovie.com/  19995   \n",
       "1  http://disney.go.com/disneypictures/pirates/    285   \n",
       "\n",
       "                                            keywords original_language  \\\n",
       "0  [{\"id\": 1463, \"name\": \"culture clash\"}, {\"id\":...                en   \n",
       "1  [{\"id\": 270, \"name\": \"ocean\"}, {\"id\": 726, \"na...                en   \n",
       "\n",
       "                             original_title  \\\n",
       "0                                    Avatar   \n",
       "1  Pirates of the Caribbean: At World's End   \n",
       "\n",
       "                                            overview  popularity  \\\n",
       "0  In the 22nd century, a paraplegic Marine is di...  150.437577   \n",
       "1  Captain Barbossa, long believed to be dead, ha...  139.082615   \n",
       "\n",
       "                                production_companies  \\\n",
       "0  [{\"name\": \"Ingenious Film Partners\", \"id\": 289...   \n",
       "1  [{\"name\": \"Walt Disney Pictures\", \"id\": 2}, {\"...   \n",
       "\n",
       "                                production_countries release_date     revenue  \\\n",
       "0  [{\"iso_3166_1\": \"US\", \"name\": \"United States o...   2009-12-10  2787965087   \n",
       "1  [{\"iso_3166_1\": \"US\", \"name\": \"United States o...   2007-05-19   961000000   \n",
       "\n",
       "   runtime                                   spoken_languages    status  \\\n",
       "0    162.0  [{\"iso_639_1\": \"en\", \"name\": \"English\"}, {\"iso...  Released   \n",
       "1    169.0           [{\"iso_639_1\": \"en\", \"name\": \"English\"}]  Released   \n",
       "\n",
       "                                          tagline  \\\n",
       "0                     Enter the World of Pandora.   \n",
       "1  At the end of the world, the adventure begins.   \n",
       "\n",
       "                                      title  vote_average  vote_count  \n",
       "0                                    Avatar           7.2       11800  \n",
       "1  Pirates of the Caribbean: At World's End           6.9        4500  "
      ]
     },
     "execution_count": 151,
     "metadata": {},
     "output_type": "execute_result"
    }
   ],
   "source": [
    "movies = pd.read_csv(file_movies)\n",
    "movies.head(2)"
   ]
  },
  {
   "cell_type": "code",
   "execution_count": 152,
   "id": "9257b2b6",
   "metadata": {},
   "outputs": [
    {
     "data": {
      "text/html": [
       "<div>\n",
       "<style scoped>\n",
       "    .dataframe tbody tr th:only-of-type {\n",
       "        vertical-align: middle;\n",
       "    }\n",
       "\n",
       "    .dataframe tbody tr th {\n",
       "        vertical-align: top;\n",
       "    }\n",
       "\n",
       "    .dataframe thead th {\n",
       "        text-align: right;\n",
       "    }\n",
       "</style>\n",
       "<table border=\"1\" class=\"dataframe\">\n",
       "  <thead>\n",
       "    <tr style=\"text-align: right;\">\n",
       "      <th></th>\n",
       "      <th>movie_id</th>\n",
       "      <th>title</th>\n",
       "      <th>cast</th>\n",
       "      <th>crew</th>\n",
       "      <th>budget</th>\n",
       "      <th>genres</th>\n",
       "      <th>homepage</th>\n",
       "      <th>id</th>\n",
       "      <th>keywords</th>\n",
       "      <th>original_language</th>\n",
       "      <th>...</th>\n",
       "      <th>production_companies</th>\n",
       "      <th>production_countries</th>\n",
       "      <th>release_date</th>\n",
       "      <th>revenue</th>\n",
       "      <th>runtime</th>\n",
       "      <th>spoken_languages</th>\n",
       "      <th>status</th>\n",
       "      <th>tagline</th>\n",
       "      <th>vote_average</th>\n",
       "      <th>vote_count</th>\n",
       "    </tr>\n",
       "  </thead>\n",
       "  <tbody>\n",
       "    <tr>\n",
       "      <th>0</th>\n",
       "      <td>19995</td>\n",
       "      <td>Avatar</td>\n",
       "      <td>[{\"cast_id\": 242, \"character\": \"Jake Sully\", \"...</td>\n",
       "      <td>[{\"credit_id\": \"52fe48009251416c750aca23\", \"de...</td>\n",
       "      <td>237000000</td>\n",
       "      <td>[{\"id\": 28, \"name\": \"Action\"}, {\"id\": 12, \"nam...</td>\n",
       "      <td>http://www.avatarmovie.com/</td>\n",
       "      <td>19995</td>\n",
       "      <td>[{\"id\": 1463, \"name\": \"culture clash\"}, {\"id\":...</td>\n",
       "      <td>en</td>\n",
       "      <td>...</td>\n",
       "      <td>[{\"name\": \"Ingenious Film Partners\", \"id\": 289...</td>\n",
       "      <td>[{\"iso_3166_1\": \"US\", \"name\": \"United States o...</td>\n",
       "      <td>2009-12-10</td>\n",
       "      <td>2787965087</td>\n",
       "      <td>162.0</td>\n",
       "      <td>[{\"iso_639_1\": \"en\", \"name\": \"English\"}, {\"iso...</td>\n",
       "      <td>Released</td>\n",
       "      <td>Enter the World of Pandora.</td>\n",
       "      <td>7.2</td>\n",
       "      <td>11800</td>\n",
       "    </tr>\n",
       "    <tr>\n",
       "      <th>1</th>\n",
       "      <td>285</td>\n",
       "      <td>Pirates of the Caribbean: At World's End</td>\n",
       "      <td>[{\"cast_id\": 4, \"character\": \"Captain Jack Spa...</td>\n",
       "      <td>[{\"credit_id\": \"52fe4232c3a36847f800b579\", \"de...</td>\n",
       "      <td>300000000</td>\n",
       "      <td>[{\"id\": 12, \"name\": \"Adventure\"}, {\"id\": 14, \"...</td>\n",
       "      <td>http://disney.go.com/disneypictures/pirates/</td>\n",
       "      <td>285</td>\n",
       "      <td>[{\"id\": 270, \"name\": \"ocean\"}, {\"id\": 726, \"na...</td>\n",
       "      <td>en</td>\n",
       "      <td>...</td>\n",
       "      <td>[{\"name\": \"Walt Disney Pictures\", \"id\": 2}, {\"...</td>\n",
       "      <td>[{\"iso_3166_1\": \"US\", \"name\": \"United States o...</td>\n",
       "      <td>2007-05-19</td>\n",
       "      <td>961000000</td>\n",
       "      <td>169.0</td>\n",
       "      <td>[{\"iso_639_1\": \"en\", \"name\": \"English\"}]</td>\n",
       "      <td>Released</td>\n",
       "      <td>At the end of the world, the adventure begins.</td>\n",
       "      <td>6.9</td>\n",
       "      <td>4500</td>\n",
       "    </tr>\n",
       "  </tbody>\n",
       "</table>\n",
       "<p>2 rows × 23 columns</p>\n",
       "</div>"
      ],
      "text/plain": [
       "   movie_id                                     title  \\\n",
       "0     19995                                    Avatar   \n",
       "1       285  Pirates of the Caribbean: At World's End   \n",
       "\n",
       "                                                cast  \\\n",
       "0  [{\"cast_id\": 242, \"character\": \"Jake Sully\", \"...   \n",
       "1  [{\"cast_id\": 4, \"character\": \"Captain Jack Spa...   \n",
       "\n",
       "                                                crew     budget  \\\n",
       "0  [{\"credit_id\": \"52fe48009251416c750aca23\", \"de...  237000000   \n",
       "1  [{\"credit_id\": \"52fe4232c3a36847f800b579\", \"de...  300000000   \n",
       "\n",
       "                                              genres  \\\n",
       "0  [{\"id\": 28, \"name\": \"Action\"}, {\"id\": 12, \"nam...   \n",
       "1  [{\"id\": 12, \"name\": \"Adventure\"}, {\"id\": 14, \"...   \n",
       "\n",
       "                                       homepage     id  \\\n",
       "0                   http://www.avatarmovie.com/  19995   \n",
       "1  http://disney.go.com/disneypictures/pirates/    285   \n",
       "\n",
       "                                            keywords original_language  ...  \\\n",
       "0  [{\"id\": 1463, \"name\": \"culture clash\"}, {\"id\":...                en  ...   \n",
       "1  [{\"id\": 270, \"name\": \"ocean\"}, {\"id\": 726, \"na...                en  ...   \n",
       "\n",
       "                                production_companies  \\\n",
       "0  [{\"name\": \"Ingenious Film Partners\", \"id\": 289...   \n",
       "1  [{\"name\": \"Walt Disney Pictures\", \"id\": 2}, {\"...   \n",
       "\n",
       "                                production_countries  release_date  \\\n",
       "0  [{\"iso_3166_1\": \"US\", \"name\": \"United States o...    2009-12-10   \n",
       "1  [{\"iso_3166_1\": \"US\", \"name\": \"United States o...    2007-05-19   \n",
       "\n",
       "      revenue runtime                                   spoken_languages  \\\n",
       "0  2787965087   162.0  [{\"iso_639_1\": \"en\", \"name\": \"English\"}, {\"iso...   \n",
       "1   961000000   169.0           [{\"iso_639_1\": \"en\", \"name\": \"English\"}]   \n",
       "\n",
       "     status                                         tagline vote_average  \\\n",
       "0  Released                     Enter the World of Pandora.          7.2   \n",
       "1  Released  At the end of the world, the adventure begins.          6.9   \n",
       "\n",
       "  vote_count  \n",
       "0      11800  \n",
       "1       4500  \n",
       "\n",
       "[2 rows x 23 columns]"
      ]
     },
     "execution_count": 152,
     "metadata": {},
     "output_type": "execute_result"
    }
   ],
   "source": [
    "df = pd.merge(left=credits, right=movies, on='title')\n",
    "df.head(2)"
   ]
  },
  {
   "cell_type": "markdown",
   "id": "9125a0a9",
   "metadata": {},
   "source": [
    "### columns in data"
   ]
  },
  {
   "cell_type": "code",
   "execution_count": 153,
   "id": "d7042c21",
   "metadata": {},
   "outputs": [
    {
     "data": {
      "text/plain": [
       "['movie_id',\n",
       " 'title',\n",
       " 'cast',\n",
       " 'crew',\n",
       " 'budget',\n",
       " 'genres',\n",
       " 'homepage',\n",
       " 'id',\n",
       " 'keywords',\n",
       " 'original_language',\n",
       " 'original_title',\n",
       " 'overview',\n",
       " 'popularity',\n",
       " 'production_companies',\n",
       " 'production_countries',\n",
       " 'release_date',\n",
       " 'revenue',\n",
       " 'runtime',\n",
       " 'spoken_languages',\n",
       " 'status',\n",
       " 'tagline',\n",
       " 'vote_average',\n",
       " 'vote_count']"
      ]
     },
     "execution_count": 153,
     "metadata": {},
     "output_type": "execute_result"
    }
   ],
   "source": [
    "col = list(df.columns)\n",
    "col"
   ]
  },
  {
   "cell_type": "markdown",
   "id": "bfcd8fc8",
   "metadata": {},
   "source": [
    "##### Important columns are\n",
    "    ['id',\n",
    "     'title',\n",
    "     'cast',\n",
    "     'crew',\n",
    "     'genres',\n",
    "     'overview',\n",
    "     'keywords',\n",
    "     'original_language',\n",
    "     'release_date',\n",
    "     'vote_average',\n",
    "     'vote_count']"
   ]
  },
  {
   "cell_type": "markdown",
   "id": "ade963c9",
   "metadata": {},
   "source": [
    "### Finding null values in data"
   ]
  },
  {
   "cell_type": "code",
   "execution_count": 154,
   "id": "2814afe1",
   "metadata": {},
   "outputs": [
    {
     "data": {
      "text/plain": [
       "movie_id                   0\n",
       "title                      0\n",
       "cast                       0\n",
       "crew                       0\n",
       "budget                     0\n",
       "genres                     0\n",
       "homepage                3096\n",
       "id                         0\n",
       "keywords                   0\n",
       "original_language          0\n",
       "original_title             0\n",
       "overview                   3\n",
       "popularity                 0\n",
       "production_companies       0\n",
       "production_countries       0\n",
       "release_date               1\n",
       "revenue                    0\n",
       "runtime                    2\n",
       "spoken_languages           0\n",
       "status                     0\n",
       "tagline                  844\n",
       "vote_average               0\n",
       "vote_count                 0\n",
       "dtype: int64"
      ]
     },
     "execution_count": 154,
     "metadata": {},
     "output_type": "execute_result"
    }
   ],
   "source": [
    "df.isna().sum()"
   ]
  },
  {
   "cell_type": "markdown",
   "id": "2f682fdb",
   "metadata": {},
   "source": [
    "### finding correlation in budget and rating"
   ]
  },
  {
   "cell_type": "code",
   "execution_count": 155,
   "id": "a2f963d1",
   "metadata": {},
   "outputs": [
    {
     "data": {
      "image/png": "[encoded data removed]",
      "text/plain": [
       "<Figure size 1500x500 with 1 Axes>"
      ]
     },
     "metadata": {},
     "output_type": "display_data"
    }
   ],
   "source": [
    "plt.figure(figsize=(15, 5))\n",
    "sns.regplot(x=df['budget'], y=df['vote_average'], marker='.')\n",
    "plt.xlabel('Movie budget')\n",
    "plt.ylabel('Rating  of movie')\n",
    "plt.show()"
   ]
  },
  {
   "cell_type": "markdown",
   "id": "7a0c42d4",
   "metadata": {},
   "source": [
    "from the above plot we can clearly see that the movie budget has no effect on movie rating. if budget is high it is not important that rating is good. so i can drop the budget column as it is not that important for our model"
   ]
  },
  {
   "cell_type": "markdown",
   "id": "886d2d55",
   "metadata": {},
   "source": [
    "### finding correlation in budget and rating"
   ]
  },
  {
   "cell_type": "code",
   "execution_count": 156,
   "id": "e26168a8",
   "metadata": {},
   "outputs": [
    {
     "data": {
      "image/png": "[encoded data removed]",
      "text/plain": [
       "<Figure size 1500x500 with 1 Axes>"
      ]
     },
     "metadata": {},
     "output_type": "display_data"
    }
   ],
   "source": [
    "plt.figure(figsize=(15, 5))\n",
    "sns.regplot(x=df['revenue'], y=df['vote_average'], marker='.')\n",
    "plt.xlabel('Movie revenue')\n",
    "plt.ylabel('Rating  of movie')\n",
    "plt.show()"
   ]
  },
  {
   "cell_type": "markdown",
   "id": "06632d02",
   "metadata": {},
   "source": [
    "from the above plot we can clearly see that the movie revenue has no effect on movie rating. if revenue is high it is not important that rating is good. so i can drop the revenue column as it is not that important for our model"
   ]
  },
  {
   "cell_type": "code",
   "execution_count": 157,
   "id": "c1f13eaa",
   "metadata": {},
   "outputs": [
    {
     "data": {
      "text/html": [
       "<div>\n",
       "<style scoped>\n",
       "    .dataframe tbody tr th:only-of-type {\n",
       "        vertical-align: middle;\n",
       "    }\n",
       "\n",
       "    .dataframe tbody tr th {\n",
       "        vertical-align: top;\n",
       "    }\n",
       "\n",
       "    .dataframe thead th {\n",
       "        text-align: right;\n",
       "    }\n",
       "</style>\n",
       "<table border=\"1\" class=\"dataframe\">\n",
       "  <thead>\n",
       "    <tr style=\"text-align: right;\">\n",
       "      <th></th>\n",
       "      <th>id</th>\n",
       "      <th>title</th>\n",
       "      <th>cast</th>\n",
       "      <th>crew</th>\n",
       "      <th>genres</th>\n",
       "      <th>overview</th>\n",
       "      <th>keywords</th>\n",
       "      <th>original_language</th>\n",
       "      <th>release_date</th>\n",
       "      <th>vote_average</th>\n",
       "      <th>vote_count</th>\n",
       "    </tr>\n",
       "  </thead>\n",
       "  <tbody>\n",
       "    <tr>\n",
       "      <th>0</th>\n",
       "      <td>19995</td>\n",
       "      <td>Avatar</td>\n",
       "      <td>[{\"cast_id\": 242, \"character\": \"Jake Sully\", \"...</td>\n",
       "      <td>[{\"credit_id\": \"52fe48009251416c750aca23\", \"de...</td>\n",
       "      <td>[{\"id\": 28, \"name\": \"Action\"}, {\"id\": 12, \"nam...</td>\n",
       "      <td>In the 22nd century, a paraplegic Marine is di...</td>\n",
       "      <td>[{\"id\": 1463, \"name\": \"culture clash\"}, {\"id\":...</td>\n",
       "      <td>en</td>\n",
       "      <td>2009-12-10</td>\n",
       "      <td>7.2</td>\n",
       "      <td>11800</td>\n",
       "    </tr>\n",
       "    <tr>\n",
       "      <th>1</th>\n",
       "      <td>285</td>\n",
       "      <td>Pirates of the Caribbean: At World's End</td>\n",
       "      <td>[{\"cast_id\": 4, \"character\": \"Captain Jack Spa...</td>\n",
       "      <td>[{\"credit_id\": \"52fe4232c3a36847f800b579\", \"de...</td>\n",
       "      <td>[{\"id\": 12, \"name\": \"Adventure\"}, {\"id\": 14, \"...</td>\n",
       "      <td>Captain Barbossa, long believed to be dead, ha...</td>\n",
       "      <td>[{\"id\": 270, \"name\": \"ocean\"}, {\"id\": 726, \"na...</td>\n",
       "      <td>en</td>\n",
       "      <td>2007-05-19</td>\n",
       "      <td>6.9</td>\n",
       "      <td>4500</td>\n",
       "    </tr>\n",
       "  </tbody>\n",
       "</table>\n",
       "</div>"
      ],
      "text/plain": [
       "      id                                     title  \\\n",
       "0  19995                                    Avatar   \n",
       "1    285  Pirates of the Caribbean: At World's End   \n",
       "\n",
       "                                                cast  \\\n",
       "0  [{\"cast_id\": 242, \"character\": \"Jake Sully\", \"...   \n",
       "1  [{\"cast_id\": 4, \"character\": \"Captain Jack Spa...   \n",
       "\n",
       "                                                crew  \\\n",
       "0  [{\"credit_id\": \"52fe48009251416c750aca23\", \"de...   \n",
       "1  [{\"credit_id\": \"52fe4232c3a36847f800b579\", \"de...   \n",
       "\n",
       "                                              genres  \\\n",
       "0  [{\"id\": 28, \"name\": \"Action\"}, {\"id\": 12, \"nam...   \n",
       "1  [{\"id\": 12, \"name\": \"Adventure\"}, {\"id\": 14, \"...   \n",
       "\n",
       "                                            overview  \\\n",
       "0  In the 22nd century, a paraplegic Marine is di...   \n",
       "1  Captain Barbossa, long believed to be dead, ha...   \n",
       "\n",
       "                                            keywords original_language  \\\n",
       "0  [{\"id\": 1463, \"name\": \"culture clash\"}, {\"id\":...                en   \n",
       "1  [{\"id\": 270, \"name\": \"ocean\"}, {\"id\": 726, \"na...                en   \n",
       "\n",
       "  release_date  vote_average  vote_count  \n",
       "0   2009-12-10           7.2       11800  \n",
       "1   2007-05-19           6.9        4500  "
      ]
     },
     "execution_count": 157,
     "metadata": {},
     "output_type": "execute_result"
    }
   ],
   "source": [
    "data = df[['id','title','cast','crew','genres','overview','keywords','original_language','release_date','vote_average','vote_count']]\n",
    "data = data.copy()\n",
    "data.head(2)"
   ]
  },
  {
   "cell_type": "code",
   "execution_count": 158,
   "id": "36a0d547",
   "metadata": {},
   "outputs": [
    {
     "data": {
      "text/plain": [
       "(4809, 11)"
      ]
     },
     "execution_count": 158,
     "metadata": {},
     "output_type": "execute_result"
    }
   ],
   "source": [
    "data.shape"
   ]
  },
  {
   "cell_type": "code",
   "execution_count": 159,
   "id": "474355df",
   "metadata": {},
   "outputs": [
    {
     "data": {
      "text/plain": [
       "id                   0\n",
       "title                0\n",
       "cast                 0\n",
       "crew                 0\n",
       "genres               0\n",
       "overview             3\n",
       "keywords             0\n",
       "original_language    0\n",
       "release_date         1\n",
       "vote_average         0\n",
       "vote_count           0\n",
       "dtype: int64"
      ]
     },
     "execution_count": 159,
     "metadata": {},
     "output_type": "execute_result"
    }
   ],
   "source": [
    "#missing value in data\n",
    "data.isna().sum()"
   ]
  },
  {
   "cell_type": "code",
   "execution_count": 160,
   "id": "8d4ce6a9",
   "metadata": {},
   "outputs": [],
   "source": [
    "data.dropna(inplace=True)"
   ]
  },
  {
   "cell_type": "code",
   "execution_count": 161,
   "id": "ccc6997d",
   "metadata": {},
   "outputs": [
    {
     "data": {
      "text/plain": [
       "0"
      ]
     },
     "execution_count": 161,
     "metadata": {},
     "output_type": "execute_result"
    }
   ],
   "source": [
    "data.duplicated().sum()"
   ]
  },
  {
   "cell_type": "markdown",
   "id": "b07bce11",
   "metadata": {},
   "source": [
    "### Preprocessing the cast, crew, geners, keywords, overview column"
   ]
  },
  {
   "cell_type": "code",
   "execution_count": 162,
   "id": "35eb0869",
   "metadata": {},
   "outputs": [],
   "source": [
    "#extract names of genres and keywords\n",
    "def convert_feature(obj):\n",
    "    eval_list = []\n",
    "    for i in eval(obj):\n",
    "        eval_list.append(i['name'])\n",
    "    string = ','.join(map(str, eval_list))\n",
    "    return string.replace(' ', '').casefold()"
   ]
  },
  {
   "cell_type": "code",
   "execution_count": 163,
   "id": "87552a46",
   "metadata": {},
   "outputs": [],
   "source": [
    "#tsaking top 3 actor names from cast\n",
    "actors_list = []\n",
    "for i in range(len(data)):\n",
    "    try:\n",
    "        lis = []\n",
    "        count = 1\n",
    "        for j in eval(data.iloc[i, 2]):\n",
    "            lis.append(j['name'])\n",
    "            count += 1\n",
    "            if count == 4:\n",
    "                break\n",
    "        actors_list.append(lis)\n",
    "    except:\n",
    "        actors_list.append([''])\n",
    "        \n",
    "\n",
    "def cast_format(obj):\n",
    "    eval_list = []\n",
    "    for i in range(len(eval(obj))):\n",
    "        eval_list.append(eval(obj)[i]['name'])\n",
    "        if i == 2:\n",
    "            break\n",
    "    string = ','.join(map(str, eval_list))\n",
    "    return string.replace(' ', '').casefold()"
   ]
  },
  {
   "cell_type": "code",
   "execution_count": 164,
   "id": "cf400310",
   "metadata": {},
   "outputs": [],
   "source": [
    "#extracting the director names from crew\n",
    "director_list = []\n",
    "\n",
    "for i in range(len(data)):\n",
    "    lis = []\n",
    "    for j in eval(data.iloc[i, 3]):\n",
    "        if j['job']=='Director':\n",
    "            lis.append(j['name'])\n",
    "    director_list.append(lis)\n",
    "            \n",
    "def crew_dirctor(obj):\n",
    "    for i in eval(obj):\n",
    "        if i['job'] == 'Director':\n",
    "            return str(i['name']).replace(' ', '').casefold()\n",
    "        elif i['job'] == 'Producer':\n",
    "            return str(i['name']).replace(' ', '').casefold()"
   ]
  },
  {
   "cell_type": "code",
   "execution_count": 165,
   "id": "d82a1489",
   "metadata": {},
   "outputs": [],
   "source": [
    "data['genres'] = data['genres'].apply(convert_feature)\n",
    "data['keywords'] = data['keywords'].apply(convert_feature)\n",
    "data['cast'] = data['cast'].apply(cast_format)\n",
    "data['crew'] = data['crew'].apply(crew_dirctor)"
   ]
  },
  {
   "cell_type": "code",
   "execution_count": 166,
   "id": "8d9fe8a8",
   "metadata": {},
   "outputs": [
    {
     "data": {
      "text/plain": [
       "id                   0\n",
       "title                0\n",
       "cast                 0\n",
       "crew                 0\n",
       "genres               0\n",
       "overview             0\n",
       "keywords             0\n",
       "original_language    0\n",
       "release_date         0\n",
       "vote_average         0\n",
       "vote_count           0\n",
       "dtype: int64"
      ]
     },
     "execution_count": 166,
     "metadata": {},
     "output_type": "execute_result"
    }
   ],
   "source": [
    "#replacing none with none list\n",
    "for i in range(len(data)):\n",
    "    if data.iloc[i, 3] == None:\n",
    "        data.iloc[i, 3] = ''\n",
    "        \n",
    "#replacing overview with list of overview\n",
    "for i in range(len(data)):\n",
    "    try:\n",
    "        data.iloc[i, 5] = data.iloc[i, 5].casefold()\n",
    "    except:\n",
    "        data.iloc[i, 5] = ''\n",
    "\n",
    "#formatting lower case in title\n",
    "for i in range(len(data)):\n",
    "    try:\n",
    "        data.iloc[i, 1] = data.iloc[i, 1].casefold()\n",
    "    except:\n",
    "        data.iloc[i, 1] = ''\n",
    "\n",
    "#showing null values\n",
    "data.isna().sum()"
   ]
  },
  {
   "cell_type": "markdown",
   "id": "3a6e3460",
   "metadata": {},
   "source": [
    "### creating tags column"
   ]
  },
  {
   "cell_type": "code",
   "execution_count": 167,
   "id": "1fa202cc",
   "metadata": {},
   "outputs": [
    {
     "data": {
      "text/plain": [
       "\"pirates of the caribbean: at world's end,johnnydepp,orlandobloom,keiraknightley,goreverbinski,adventure,fantasy,action,ocean,drugabuse,exoticisland,eastindiatradingcompany,loveofone'slife,traitor,shipwreck,strongwoman,ship,alliance,calypso,afterlife,fighter,pirate,swashbuckler,aftercreditsstinger,en,2007,6\""
      ]
     },
     "execution_count": 167,
     "metadata": {},
     "output_type": "execute_result"
    }
   ],
   "source": [
    "data['release_year'] = 0\n",
    "for i in range(len(data)):\n",
    "    data.iloc[i, 11] = str(data.iloc[i, 8]).split('-')[0]\n",
    "\n",
    "data['rating'] = 0\n",
    "for i in range(len(data)):\n",
    "    data.iloc[i, 12] = str(data.iloc[i, 9]).split('.')[0]\n",
    "#making tags column\n",
    "data['tags'] = (\n",
    "    data['title'] +','+ data['cast'] +','+ \n",
    "    data['crew'] +','+ data['genres'] +','+ \n",
    "    data['keywords'] +','+ data['original_language'] +','+\n",
    "    data['release_year'] +','+ data['rating']\n",
    ")\n",
    "data.drop(columns=['release_year', 'rating', 'keywords'], axis=1, inplace=True)\n",
    "data['tags'][1]"
   ]
  },
  {
   "cell_type": "code",
   "execution_count": 168,
   "id": "3cc75bfa",
   "metadata": {},
   "outputs": [
    {
     "data": {
      "text/html": [
       "<div>\n",
       "<style scoped>\n",
       "    .dataframe tbody tr th:only-of-type {\n",
       "        vertical-align: middle;\n",
       "    }\n",
       "\n",
       "    .dataframe tbody tr th {\n",
       "        vertical-align: top;\n",
       "    }\n",
       "\n",
       "    .dataframe thead th {\n",
       "        text-align: right;\n",
       "    }\n",
       "</style>\n",
       "<table border=\"1\" class=\"dataframe\">\n",
       "  <thead>\n",
       "    <tr style=\"text-align: right;\">\n",
       "      <th></th>\n",
       "      <th>TMDB id</th>\n",
       "      <th>Title</th>\n",
       "      <th>Actors</th>\n",
       "      <th>Director</th>\n",
       "      <th>Type</th>\n",
       "      <th>Overview</th>\n",
       "      <th>Language</th>\n",
       "      <th>Release</th>\n",
       "      <th>Rating</th>\n",
       "      <th>Vote count</th>\n",
       "      <th>tags</th>\n",
       "    </tr>\n",
       "  </thead>\n",
       "  <tbody>\n",
       "    <tr>\n",
       "      <th>0</th>\n",
       "      <td>19995</td>\n",
       "      <td>avatar</td>\n",
       "      <td>Sam Worthington,Zoe Saldana,Sigourney Weaver</td>\n",
       "      <td>James Cameron</td>\n",
       "      <td>action,adventure,fantasy,sciencefiction</td>\n",
       "      <td>in the 22nd century, a paraplegic marine is di...</td>\n",
       "      <td>en</td>\n",
       "      <td>2009-12-10</td>\n",
       "      <td>7.2</td>\n",
       "      <td>11800</td>\n",
       "      <td>avatar,samworthington,zoesaldana,sigourneyweav...</td>\n",
       "    </tr>\n",
       "    <tr>\n",
       "      <th>1</th>\n",
       "      <td>285</td>\n",
       "      <td>pirates of the caribbean: at world's end</td>\n",
       "      <td>Johnny Depp,Orlando Bloom,Keira Knightley</td>\n",
       "      <td>Gore Verbinski</td>\n",
       "      <td>adventure,fantasy,action</td>\n",
       "      <td>captain barbossa, long believed to be dead, ha...</td>\n",
       "      <td>en</td>\n",
       "      <td>2007-05-19</td>\n",
       "      <td>6.9</td>\n",
       "      <td>4500</td>\n",
       "      <td>pirates of the caribbean: at world's end,johnn...</td>\n",
       "    </tr>\n",
       "  </tbody>\n",
       "</table>\n",
       "</div>"
      ],
      "text/plain": [
       "   TMDB id                                     Title  \\\n",
       "0    19995                                    avatar   \n",
       "1      285  pirates of the caribbean: at world's end   \n",
       "\n",
       "                                         Actors        Director  \\\n",
       "0  Sam Worthington,Zoe Saldana,Sigourney Weaver   James Cameron   \n",
       "1     Johnny Depp,Orlando Bloom,Keira Knightley  Gore Verbinski   \n",
       "\n",
       "                                      Type  \\\n",
       "0  action,adventure,fantasy,sciencefiction   \n",
       "1                 adventure,fantasy,action   \n",
       "\n",
       "                                            Overview Language     Release  \\\n",
       "0  in the 22nd century, a paraplegic marine is di...       en  2009-12-10   \n",
       "1  captain barbossa, long believed to be dead, ha...       en  2007-05-19   \n",
       "\n",
       "   Rating  Vote count                                               tags  \n",
       "0     7.2       11800  avatar,samworthington,zoesaldana,sigourneyweav...  \n",
       "1     6.9        4500  pirates of the caribbean: at world's end,johnn...  "
      ]
     },
     "execution_count": 168,
     "metadata": {},
     "output_type": "execute_result"
    }
   ],
   "source": [
    "data.columns=(\n",
    "    'TMDB id', 'Title', 'Actors', 'Director',\n",
    "    'Type', 'Overview', 'Language', 'Release', 'Rating', 'Vote count', 'tags'\n",
    ")\n",
    "data.iloc[:, 2] = [','.join(i) for i in actors_list]\n",
    "data.iloc[:, 3] = [','.join(i) for i in director_list]\n",
    "data.head(2)"
   ]
  },
  {
   "cell_type": "code",
   "execution_count": 169,
   "id": "a981a9cc",
   "metadata": {},
   "outputs": [
    {
     "data": {
      "text/plain": [
       "(4805, 11)"
      ]
     },
     "execution_count": 169,
     "metadata": {},
     "output_type": "execute_result"
    }
   ],
   "source": [
    "data.to_csv(r'data.csv', index=False)\n",
    "data.shape"
   ]
  },
  {
   "cell_type": "markdown",
   "id": "b581b7a0",
   "metadata": {},
   "source": [
    "### Stemming the tags (eg. ['loved', 'loving', 'loves'] stemmed in ['love', 'love', 'love'])"
   ]
  },
  {
   "cell_type": "code",
   "execution_count": 170,
   "id": "3ab2b819",
   "metadata": {},
   "outputs": [],
   "source": [
    "#Natural language processing toolkit\n",
    "import nltk"
   ]
  },
  {
   "cell_type": "code",
   "execution_count": 171,
   "id": "9ee64b81",
   "metadata": {},
   "outputs": [],
   "source": [
    "from nltk.stem.porter import PorterStemmer\n",
    "ps = PorterStemmer()"
   ]
  },
  {
   "cell_type": "code",
   "execution_count": 172,
   "id": "9f2b12c3",
   "metadata": {},
   "outputs": [],
   "source": [
    "def stemmer(obj):\n",
    "    lis = []\n",
    "    for i in obj.split(','):\n",
    "        lis.append(ps.stem(i))\n",
    "    return ' '.join(lis)"
   ]
  },
  {
   "cell_type": "code",
   "execution_count": 173,
   "id": "ea022bf0",
   "metadata": {},
   "outputs": [
    {
     "data": {
      "text/plain": [
       "0       avatar samworthington zoesaldana sigourneyweav...\n",
       "1       pirates of the caribbean: at world's end johnn...\n",
       "2       spectr danielcraig christophwaltz léaseydoux s...\n",
       "3       the dark knight ris christianbal michaelcain g...\n",
       "4       john cart taylorkitsch lynncollin samanthamort...\n",
       "                              ...                        \n",
       "4804    el mariachi carlosgallardo jaimedehoyo peterma...\n",
       "4805    newlyw edwardburn kerrybishé marshadietlein ed...\n",
       "4806    sign  seal  deliv ericmabiu kristinbooth cryst...\n",
       "4807    shanghai cal danielhenney elizacoup billpaxton...\n",
       "4808    my date with drew drewbarrymor brianherzling c...\n",
       "Name: tags, Length: 4805, dtype: object"
      ]
     },
     "execution_count": 173,
     "metadata": {},
     "output_type": "execute_result"
    }
   ],
   "source": [
    "data['tags'].apply(stemmer)"
   ]
  },
  {
   "cell_type": "markdown",
   "id": "c00efef1",
   "metadata": {},
   "source": [
    "### feature count from every tags column"
   ]
  },
  {
   "cell_type": "code",
   "execution_count": 174,
   "id": "dcab1d14",
   "metadata": {},
   "outputs": [],
   "source": [
    "from sklearn.feature_extraction.text import CountVectorizer\n",
    "cv = CountVectorizer(max_features=5000, stop_words='english')"
   ]
  },
  {
   "cell_type": "code",
   "execution_count": 175,
   "id": "c182ad90",
   "metadata": {},
   "outputs": [
    {
     "data": {
      "text/plain": [
       "array([[0, 0, 0, ..., 0, 0, 0],\n",
       "       [0, 0, 0, ..., 0, 0, 0],\n",
       "       [0, 0, 0, ..., 0, 0, 0],\n",
       "       ...,\n",
       "       [0, 0, 0, ..., 0, 0, 0],\n",
       "       [0, 0, 0, ..., 0, 0, 0],\n",
       "       [0, 0, 0, ..., 0, 0, 0]], dtype=int64)"
      ]
     },
     "execution_count": 175,
     "metadata": {},
     "output_type": "execute_result"
    }
   ],
   "source": [
    "arr = cv.fit_transform(data['tags']).toarray()\n",
    "arr"
   ]
  },
  {
   "cell_type": "markdown",
   "id": "450c4135",
   "metadata": {},
   "source": [
    "### Finding cosign distance between movies"
   ]
  },
  {
   "cell_type": "code",
   "execution_count": 176,
   "id": "99a522c7",
   "metadata": {},
   "outputs": [],
   "source": [
    "from sklearn.metrics.pairwise import cosine_similarity\n",
    "similarity = cosine_similarity(arr)"
   ]
  },
  {
   "cell_type": "code",
   "execution_count": 184,
   "id": "279c0864",
   "metadata": {},
   "outputs": [],
   "source": [
    "import dill\n",
    "with open(r'similarities.pkl', 'wb') as file_obj:\n",
    "    dill.dump(similarity, file_obj)"
   ]
  },
  {
   "cell_type": "code",
   "execution_count": 188,
   "id": "d7d1fdcf",
   "metadata": {},
   "outputs": [],
   "source": [
    "df = pd.read_csv('data.csv')"
   ]
  },
  {
   "cell_type": "markdown",
   "id": "8f21ce69",
   "metadata": {},
   "source": [
    "### find similar movies"
   ]
  },
  {
   "cell_type": "code",
   "execution_count": 189,
   "id": "0ea71bca",
   "metadata": {},
   "outputs": [],
   "source": [
    "def recomender(movie, data):\n",
    "    try:\n",
    "        #find index of movie in data\n",
    "        movie_index = data[data['Title'] == movie.casefold()].index[0]\n",
    "        print(movie_index)\n",
    "        distances = similarity[movie_index]\n",
    "        recommended_movies = sorted(list(enumerate(distances)), \n",
    "                                    reverse=True, \n",
    "                                    key=lambda x: x[1])[1:6]\n",
    "        for i, j in recommended_movies:\n",
    "            print(i, j, data.iloc[i, 1])\n",
    "    except Exception as e:\n",
    "        print(e)"
   ]
  },
  {
   "cell_type": "code",
   "execution_count": 190,
   "id": "40750930",
   "metadata": {},
   "outputs": [
    {
     "data": {
      "text/plain": [
       "68"
      ]
     },
     "execution_count": 190,
     "metadata": {},
     "output_type": "execute_result"
    }
   ],
   "source": [
    "df[df['Title']=='iron man'].index[0]"
   ]
  },
  {
   "cell_type": "code",
   "execution_count": null,
   "id": "0073f08b",
   "metadata": {},
   "outputs": [],
   "source": []
  },
  {
   "cell_type": "code",
   "execution_count": 191,
   "id": "0f97a5ee",
   "metadata": {},
   "outputs": [
    {
     "name": "stdout",
     "output_type": "stream",
     "text": [
      "68\n",
      "79 0.7029594915666377 iron man 2\n",
      "31 0.7008766440504623 iron man 3\n",
      "182 0.5564148840746571 ant-man\n",
      "16 0.5263157894736841 the avengers\n",
      "7 0.4736842105263157 avengers: age of ultron\n"
     ]
    }
   ],
   "source": [
    "recomender('iron man', data)"
   ]
  },
  {
   "cell_type": "code",
   "execution_count": 181,
   "id": "5b5c74e0",
   "metadata": {},
   "outputs": [
    {
     "data": {
      "text/plain": [
       "'TMDB id'"
      ]
     },
     "execution_count": 181,
     "metadata": {},
     "output_type": "execute_result"
    }
   ],
   "source": [
    "data.columns[0]"
   ]
  },
  {
   "cell_type": "code",
   "execution_count": null,
   "id": "8e71456e",
   "metadata": {},
   "outputs": [],
   "source": []
  }
 ],
 "metadata": {
  "kernelspec": {
   "display_name": "Python 3 (ipykernel)",
   "language": "python",
   "name": "python3"
  },
  "language_info": {
   "codemirror_mode": {
    "name": "ipython",
    "version": 3
   },
   "file_extension": ".py",
   "mimetype": "text/x-python",
   "name": "python",
   "nbconvert_exporter": "python",
   "pygments_lexer": "ipython3",
   "version": "3.9.13"
  }
 },
 "nbformat": 4,
 "nbformat_minor": 5
}
